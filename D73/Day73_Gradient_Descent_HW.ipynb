{
 "cells": [
  {
   "cell_type": "markdown",
   "metadata": {},
   "source": [
    "# 作業重點\n",
    "\n",
    "使用function y=(x+5)² 來練習學習率( leanrning rate ) 調整所造成的影響"
   ]
  },
  {
   "cell_type": "markdown",
   "metadata": {},
   "source": [
    "# 作業目標:\n",
    "    請嘗試使用不同的組合驗證 learning rate 對所需 iteration 的影響\n",
    "    lr = [0.1, 0.0001]\n",
    "    主要驗證 Lr 對於grandient 收斂的速度\n",
    "    "
   ]
  },
  {
   "cell_type": "code",
   "execution_count": 3,
   "metadata": {},
   "outputs": [],
   "source": [
    "cur_x = 3 # The algorithm starts at x=3\n",
    "precision = 0.000001 #This tells us when to stop the algorithm\n",
    "max_iters = 10000 # maximum number of iterations\n",
    "df = lambda x: 2*(x+5) #Gradient of our function "
   ]
  },
  {
   "cell_type": "code",
   "execution_count": 6,
   "metadata": {
    "scrolled": false
   },
   "outputs": [
    {
     "name": "stdout",
     "output_type": "stream",
     "text": [
      "Iteration 1 \n",
      "X value is 1.6\n",
      "Iteration 2 \n",
      "X value is 1.32\n",
      "Iteration 3 \n",
      "X value is 1.2640000000000002\n",
      "Iteration 4 \n",
      "X value is 1.2528000000000001\n",
      "Iteration 5 \n",
      "X value is 1.2505600000000001\n",
      "Iteration 6 \n",
      "X value is 1.2501120000000001\n",
      "Iteration 7 \n",
      "X value is 1.2500224\n",
      "Iteration 8 \n",
      "X value is 1.25000448\n",
      "Iteration 9 \n",
      "X value is 1.2500008960000002\n",
      "Iteration 10 \n",
      "X value is 1.2500001792000002\n",
      "learning rate is 0.1\n",
      "Totally iteations:  10\n",
      "The local minimum occurs at 1.2500001792000002\n"
     ]
    },
    {
     "data": {
      "image/png": "[encoded data removed]",
      "text/plain": [
       "<Figure size 432x288 with 1 Axes>"
      ]
     },
     "metadata": {
      "needs_background": "light"
     },
     "output_type": "display_data"
    },
    {
     "name": "stdout",
     "output_type": "stream",
     "text": [
      "Iteration 1 \n",
      "X value is 0.0016\n",
      "Iteration 2 \n",
      "X value is 0.00100032\n",
      "Iteration 3 \n",
      "X value is 0.001000200064\n",
      "learning rate is 0.0001\n",
      "Totally iteations:  3\n",
      "The local minimum occurs at 0.001000200064\n"
     ]
    },
    {
     "data": {
      "image/png": "[encoded data removed]",
      "text/plain": [
       "<Figure size 432x288 with 1 Axes>"
      ]
     },
     "metadata": {
      "needs_background": "light"
     },
     "output_type": "display_data"
    }
   ],
   "source": [
    "'''\n",
    "需要執行初始值設定, 下列三個\n",
    "# Learning rate\n",
    "#iteration counter\n",
    "#Step size  \n",
    "'''\n",
    "'''\n",
    "while previous_step_size > precision and iters < max_iters:\n",
    "\n",
    "  算法迭代更新\n",
    "\n",
    "print(\"the learning rate is\",lr, \"\\nIteration\",iters,\"\\nX value is\",cur_x) #Print iterations\n",
    "'''\n",
    "import matplotlib.pyplot as plt\n",
    "%matplotlib inline \n",
    "\n",
    "\n",
    "lrs = [0.1, 0.0001]\n",
    "cur_x = 3 # The algorithm starts at x=3\n",
    "precision = 0.000001 #This tells us when to stop the algorithm\n",
    "max_iters = 10000 # maximum number of iterations\n",
    "df = lambda x: 2*(x+5) #Gradient of our function \n",
    "\n",
    "\n",
    "def run(lr):\n",
    "    cur_x = 3\n",
    "    iters = 0\n",
    "    precision = 0.000001 #This tells us when to stop the algorithm\n",
    "    max_iters = 10000 \n",
    "    iters_history = [iters]\n",
    "    x_history = [cur_x]\n",
    "    previous_step_size = 1 \n",
    "    while previous_step_size > precision and iters < max_iters:\n",
    "        prev_x = cur_x\n",
    "        cur_x = lr * df(prev_x)\n",
    "        previous_step_size = abs(cur_x - prev_x)\n",
    "        iters += 1\n",
    "        print(\"Iteration\",iters,\"\\nX value is\",cur_x) #Print iterations\n",
    "         # Store parameters for plotting\n",
    "        iters_history.append(iters)\n",
    "        x_history.append(cur_x)\n",
    "    \n",
    "    print(f\"learning rate is {lr}\")\n",
    "    print(\"Totally iteations: \", iters)\n",
    "    print(\"The local minimum occurs at\", cur_x)\n",
    "    \n",
    "    plt.plot(iters_history, x_history, 'o-', ms=3, lw=1.5, color='black')\n",
    "    plt.xlabel(r'$iters$', fontsize=16)\n",
    "    plt.ylabel(r'$x$', fontsize=16)\n",
    "    plt.show()\n",
    "    \n",
    "\n",
    "for lr in lrs:\n",
    "    run(lr)"
   ]
  },
  {
   "cell_type": "code",
   "execution_count": null,
   "metadata": {},
   "outputs": [],
   "source": []
  }
 ],
 "metadata": {
  "kernelspec": {
   "display_name": "Python 3",
   "language": "python",
   "name": "python3"
  },
  "language_info": {
   "codemirror_mode": {
    "name": "ipython",
    "version": 3
   },
   "file_extension": ".py",
   "mimetype": "text/x-python",
   "name": "python",
   "nbconvert_exporter": "python",
   "pygments_lexer": "ipython3",
   "version": "3.8.8"
  }
 },
 "nbformat": 4,
 "nbformat_minor": 2
}
