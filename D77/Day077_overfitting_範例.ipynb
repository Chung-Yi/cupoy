{
 "cells": [
  {
   "cell_type": "markdown",
   "metadata": {},
   "source": [
    "## 範例重點\n",
    "* 學會從 Keras 內建函式取得資料\n",
    "* 能夠建立簡易的深度學習模型\n",
    "* 觀察並了解 Overfit 現象"
   ]
  },
  {
   "cell_type": "code",
   "execution_count": 1,
   "metadata": {},
   "outputs": [],
   "source": [
    "import os\n",
    "from tensorflow import keras\n",
    "\n",
    "# 本範例不需使用 GPU, 將 GPU 設定為 \"無\"\n",
    "os.environ[\"CUDA_VISIBLE_DEVICES\"] = \"0\""
   ]
  },
  {
   "cell_type": "code",
   "execution_count": 2,
   "metadata": {},
   "outputs": [],
   "source": [
    "# 從 Keras 的內建功能中，取得 train 與 test 資料集\n",
    "# 在本例中，我們將train作為訓練資料、test作為測試資料\n",
    "train, test = keras.datasets.cifar10.load_data()"
   ]
  },
  {
   "cell_type": "code",
   "execution_count": 3,
   "metadata": {},
   "outputs": [],
   "source": [
    "# 將 X 與 Y 獨立放進變數\n",
    "x_train, y_train = train\n",
    "x_test, y_test = test\n",
    "\n",
    "# 資料前處理 - 標準化\n",
    "x_train = x_train / 255.\n",
    "x_test = x_test / 255.\n",
    "\n",
    "# 將資料從圖形 (RGB) 轉為向量 (Single Vector)\n",
    "x_train = x_train.reshape((len(x_train), -1))\n",
    "x_test = x_test.reshape((len(x_test), -1))\n",
    "\n",
    "# 將目標轉為 one-hot encoding\n",
    "y_train = keras.utils.to_categorical(y_train, num_classes=10)\n",
    "y_test = keras.utils.to_categorical(y_test, num_classes=10)"
   ]
  },
  {
   "cell_type": "code",
   "execution_count": 4,
   "metadata": {},
   "outputs": [
    {
     "data": {
      "text/plain": [
       "(10000, 3072)"
      ]
     },
     "execution_count": 4,
     "metadata": {},
     "output_type": "execute_result"
    }
   ],
   "source": [
    "x_train.shape\n",
    "x_test.shape"
   ]
  },
  {
   "cell_type": "code",
   "execution_count": 5,
   "metadata": {},
   "outputs": [],
   "source": [
    "# 建立一個有三層隱藏層之神經網路\n",
    "def build_mlp():\n",
    "    input_layer = keras.layers.Input([x_train.shape[-1]])\n",
    "    x = keras.layers.Dense(units=512, activation=\"relu\")(input_layer)\n",
    "    x = keras.layers.Dense(units=256, activation=\"relu\")(x)\n",
    "    x = keras.layers.Dense(units=128, activation=\"relu\")(x)\n",
    "    out = keras.layers.Dense(units=10, activation=\"softmax\")(x)\n",
    "    \n",
    "    model = keras.models.Model(inputs=[input_layer], outputs=[out])\n",
    "    return model"
   ]
  },
  {
   "cell_type": "code",
   "execution_count": 6,
   "metadata": {},
   "outputs": [
    {
     "name": "stdout",
     "output_type": "stream",
     "text": [
      "Model: \"model\"\n",
      "_________________________________________________________________\n",
      "Layer (type)                 Output Shape              Param #   \n",
      "=================================================================\n",
      "input_1 (InputLayer)         [(None, 3072)]            0         \n",
      "_________________________________________________________________\n",
      "dense (Dense)                (None, 512)               1573376   \n",
      "_________________________________________________________________\n",
      "dense_1 (Dense)              (None, 256)               131328    \n",
      "_________________________________________________________________\n",
      "dense_2 (Dense)              (None, 128)               32896     \n",
      "_________________________________________________________________\n",
      "dense_3 (Dense)              (None, 10)                1290      \n",
      "=================================================================\n",
      "Total params: 1,738,890\n",
      "Trainable params: 1,738,890\n",
      "Non-trainable params: 0\n",
      "_________________________________________________________________\n"
     ]
    }
   ],
   "source": [
    "model = build_mlp()\n",
    "# 用 Keras 內建方法檢視模型各層參數量\n",
    "model.summary()\n",
    "\n",
    "optimizer = keras.optimizers.Adam(lr=0.001)\n",
    "model.compile(loss=\"categorical_crossentropy\", metrics=[\"accuracy\"], optimizer=optimizer)"
   ]
  },
  {
   "cell_type": "code",
   "execution_count": null,
   "metadata": {
    "scrolled": false
   },
   "outputs": [
    {
     "name": "stdout",
     "output_type": "stream",
     "text": [
      "Epoch 1/100\n",
      "118/118 [==============================] - 4s 35ms/step - loss: 2.0353 - accuracy: 0.2634 - val_loss: 1.8424 - val_accuracy: 0.3438\n",
      "Epoch 2/100\n",
      "118/118 [==============================] - 1s 6ms/step - loss: 1.7905 - accuracy: 0.3590 - val_loss: 1.7574 - val_accuracy: 0.3772\n",
      "Epoch 3/100\n",
      "118/118 [==============================] - 1s 6ms/step - loss: 1.7083 - accuracy: 0.3886 - val_loss: 1.7595 - val_accuracy: 0.3882\n",
      "Epoch 4/100\n",
      "118/118 [==============================] - 1s 6ms/step - loss: 1.6431 - accuracy: 0.4110 - val_loss: 1.6231 - val_accuracy: 0.4197\n",
      "Epoch 5/100\n",
      "118/118 [==============================] - 1s 6ms/step - loss: 1.5961 - accuracy: 0.4300 - val_loss: 1.5983 - val_accuracy: 0.4288\n",
      "Epoch 6/100\n",
      "118/118 [==============================] - 1s 6ms/step - loss: 1.5396 - accuracy: 0.4484 - val_loss: 1.6349 - val_accuracy: 0.4190\n",
      "Epoch 7/100\n",
      "118/118 [==============================] - 1s 6ms/step - loss: 1.5127 - accuracy: 0.4589 - val_loss: 1.5465 - val_accuracy: 0.4511\n",
      "Epoch 8/100\n",
      "118/118 [==============================] - 1s 6ms/step - loss: 1.4761 - accuracy: 0.4746 - val_loss: 1.5318 - val_accuracy: 0.4510\n",
      "Epoch 9/100\n",
      "118/118 [==============================] - 1s 6ms/step - loss: 1.4580 - accuracy: 0.4777 - val_loss: 1.5414 - val_accuracy: 0.4497\n",
      "Epoch 10/100\n",
      "118/118 [==============================] - 1s 6ms/step - loss: 1.4304 - accuracy: 0.4865 - val_loss: 1.5069 - val_accuracy: 0.4677\n",
      "Epoch 11/100\n",
      "118/118 [==============================] - 1s 6ms/step - loss: 1.4089 - accuracy: 0.4944 - val_loss: 1.4703 - val_accuracy: 0.4776\n",
      "Epoch 12/100\n",
      "118/118 [==============================] - 1s 6ms/step - loss: 1.3783 - accuracy: 0.5091 - val_loss: 1.5329 - val_accuracy: 0.4550\n",
      "Epoch 13/100\n",
      "118/118 [==============================] - 1s 8ms/step - loss: 1.3582 - accuracy: 0.5138 - val_loss: 1.4799 - val_accuracy: 0.4733\n",
      "Epoch 14/100\n",
      "118/118 [==============================] - 1s 6ms/step - loss: 1.3443 - accuracy: 0.5211 - val_loss: 1.4796 - val_accuracy: 0.4815\n",
      "Epoch 15/100\n",
      "118/118 [==============================] - 1s 6ms/step - loss: 1.3125 - accuracy: 0.5283 - val_loss: 1.4869 - val_accuracy: 0.4752\n",
      "Epoch 16/100\n",
      "118/118 [==============================] - 1s 6ms/step - loss: 1.2943 - accuracy: 0.5350 - val_loss: 1.5176 - val_accuracy: 0.4721\n",
      "Epoch 17/100\n",
      "118/118 [==============================] - 1s 7ms/step - loss: 1.2814 - accuracy: 0.5423 - val_loss: 1.4438 - val_accuracy: 0.4944\n",
      "Epoch 18/100\n",
      "118/118 [==============================] - 1s 6ms/step - loss: 1.2506 - accuracy: 0.5525 - val_loss: 1.4520 - val_accuracy: 0.4871\n",
      "Epoch 19/100\n",
      "118/118 [==============================] - 1s 6ms/step - loss: 1.2332 - accuracy: 0.5593 - val_loss: 1.4683 - val_accuracy: 0.4801\n",
      "Epoch 20/100\n",
      "118/118 [==============================] - 1s 6ms/step - loss: 1.1999 - accuracy: 0.5685 - val_loss: 1.4671 - val_accuracy: 0.4883\n",
      "Epoch 21/100\n",
      "118/118 [==============================] - 1s 6ms/step - loss: 1.1900 - accuracy: 0.5755 - val_loss: 1.4437 - val_accuracy: 0.4973\n",
      "Epoch 22/100\n",
      "118/118 [==============================] - 1s 7ms/step - loss: 1.1578 - accuracy: 0.5833 - val_loss: 1.4396 - val_accuracy: 0.4987\n",
      "Epoch 23/100\n",
      "118/118 [==============================] - 1s 9ms/step - loss: 1.1495 - accuracy: 0.5892 - val_loss: 1.4187 - val_accuracy: 0.5072\n",
      "Epoch 24/100\n",
      "118/118 [==============================] - 1s 6ms/step - loss: 1.1121 - accuracy: 0.6061 - val_loss: 1.4952 - val_accuracy: 0.4897\n",
      "Epoch 25/100\n",
      "118/118 [==============================] - 1s 6ms/step - loss: 1.0974 - accuracy: 0.6084 - val_loss: 1.4769 - val_accuracy: 0.5015\n",
      "Epoch 26/100\n",
      "118/118 [==============================] - 1s 6ms/step - loss: 1.0796 - accuracy: 0.6147 - val_loss: 1.4617 - val_accuracy: 0.5017\n",
      "Epoch 27/100\n",
      "118/118 [==============================] - 1s 6ms/step - loss: 1.0599 - accuracy: 0.6231 - val_loss: 1.4892 - val_accuracy: 0.4947\n",
      "Epoch 28/100\n",
      "118/118 [==============================] - 1s 6ms/step - loss: 1.0503 - accuracy: 0.6244 - val_loss: 1.4782 - val_accuracy: 0.5026\n",
      "Epoch 29/100\n",
      "118/118 [==============================] - 1s 6ms/step - loss: 1.0361 - accuracy: 0.6291 - val_loss: 1.5295 - val_accuracy: 0.4785\n",
      "Epoch 30/100\n",
      "118/118 [==============================] - 1s 6ms/step - loss: 0.9926 - accuracy: 0.6501 - val_loss: 1.5803 - val_accuracy: 0.4885\n",
      "Epoch 31/100\n",
      "118/118 [==============================] - 1s 6ms/step - loss: 0.9929 - accuracy: 0.6461 - val_loss: 1.5044 - val_accuracy: 0.4961\n",
      "Epoch 32/100\n",
      "118/118 [==============================] - 1s 6ms/step - loss: 0.9562 - accuracy: 0.6574 - val_loss: 1.5206 - val_accuracy: 0.5014\n",
      "Epoch 33/100\n",
      "118/118 [==============================] - 1s 6ms/step - loss: 0.9429 - accuracy: 0.6608 - val_loss: 1.5746 - val_accuracy: 0.4905\n",
      "Epoch 34/100\n",
      "118/118 [==============================] - 1s 6ms/step - loss: 0.9265 - accuracy: 0.6696 - val_loss: 1.5522 - val_accuracy: 0.4983\n",
      "Epoch 35/100\n",
      "118/118 [==============================] - 1s 6ms/step - loss: 0.8928 - accuracy: 0.6827 - val_loss: 1.5534 - val_accuracy: 0.4991\n",
      "Epoch 36/100\n",
      "118/118 [==============================] - 1s 7ms/step - loss: 0.8741 - accuracy: 0.6871 - val_loss: 1.5629 - val_accuracy: 0.4991\n",
      "Epoch 37/100\n",
      "118/118 [==============================] - 30s 257ms/step - loss: 0.8715 - accuracy: 0.6876 - val_loss: 1.6201 - val_accuracy: 0.4925\n",
      "Epoch 38/100\n",
      "118/118 [==============================] - 1s 9ms/step - loss: 0.8430 - accuracy: 0.6991 - val_loss: 1.6630 - val_accuracy: 0.4877\n",
      "Epoch 39/100\n",
      "118/118 [==============================] - 1s 7ms/step - loss: 0.8200 - accuracy: 0.7088 - val_loss: 1.6002 - val_accuracy: 0.5067\n",
      "Epoch 40/100\n",
      "118/118 [==============================] - 1s 7ms/step - loss: 0.7948 - accuracy: 0.7155 - val_loss: 1.6512 - val_accuracy: 0.4896\n",
      "Epoch 41/100\n",
      "118/118 [==============================] - 1s 6ms/step - loss: 0.7881 - accuracy: 0.7208 - val_loss: 1.6227 - val_accuracy: 0.5045\n",
      "Epoch 42/100\n",
      "118/118 [==============================] - 1s 6ms/step - loss: 0.7721 - accuracy: 0.7257 - val_loss: 1.6768 - val_accuracy: 0.4993\n",
      "Epoch 43/100\n",
      "118/118 [==============================] - 1s 6ms/step - loss: 0.7434 - accuracy: 0.7398 - val_loss: 1.7346 - val_accuracy: 0.4935\n",
      "Epoch 44/100\n",
      "118/118 [==============================] - 1s 9ms/step - loss: 0.7581 - accuracy: 0.7308 - val_loss: 1.7630 - val_accuracy: 0.4934\n",
      "Epoch 45/100\n",
      "118/118 [==============================] - 1s 6ms/step - loss: 0.7225 - accuracy: 0.7444 - val_loss: 1.7596 - val_accuracy: 0.5025\n",
      "Epoch 46/100\n",
      "118/118 [==============================] - 1s 9ms/step - loss: 0.6917 - accuracy: 0.7566 - val_loss: 1.7509 - val_accuracy: 0.5019\n",
      "Epoch 47/100\n",
      "118/118 [==============================] - 1s 6ms/step - loss: 0.6952 - accuracy: 0.7529 - val_loss: 1.8513 - val_accuracy: 0.4889\n",
      "Epoch 48/100\n",
      "118/118 [==============================] - 1s 6ms/step - loss: 0.6772 - accuracy: 0.7591 - val_loss: 1.8337 - val_accuracy: 0.4958\n",
      "Epoch 49/100\n",
      "118/118 [==============================] - 2s 15ms/step - loss: 0.6552 - accuracy: 0.7685 - val_loss: 1.8487 - val_accuracy: 0.4909\n",
      "Epoch 50/100\n",
      "118/118 [==============================] - 1s 6ms/step - loss: 0.6489 - accuracy: 0.7696 - val_loss: 1.8817 - val_accuracy: 0.4849\n",
      "Epoch 51/100\n",
      "118/118 [==============================] - 1s 6ms/step - loss: 0.6383 - accuracy: 0.7732 - val_loss: 1.8542 - val_accuracy: 0.4985\n",
      "Epoch 52/100\n",
      "118/118 [==============================] - 1s 7ms/step - loss: 0.5951 - accuracy: 0.7890 - val_loss: 1.9254 - val_accuracy: 0.4959\n",
      "Epoch 53/100\n",
      "109/118 [==========================>...] - ETA: 0s - loss: 0.5806 - accuracy: 0.7948"
     ]
    }
   ],
   "source": [
    "# 訓練模型並檢視驗證集的結果\n",
    "model.fit(x_train[:30000], y_train[:30000], \n",
    "          epochs=100, \n",
    "          batch_size=256, \n",
    "          validation_data=(x_test, y_test), \n",
    "          shuffle=True)"
   ]
  },
  {
   "cell_type": "code",
   "execution_count": null,
   "metadata": {},
   "outputs": [],
   "source": [
    "# 以視覺畫方式檢視訓練過程\n",
    "import matplotlib.pyplot as plt\n",
    "train_loss = model.history.history[\"loss\"]\n",
    "valid_loss = model.history.history[\"val_loss\"]\n",
    "\n",
    "train_acc = model.history.history[\"acc\"]\n",
    "valid_acc = model.history.history[\"val_acc\"]\n",
    "\n",
    "plt.plot(range(len(train_loss)), train_loss, label=\"train loss\")\n",
    "plt.plot(range(len(valid_loss)), valid_loss, label=\"valid loss\")\n",
    "plt.legend()\n",
    "plt.title(\"Loss\")\n",
    "plt.show()\n",
    "\n",
    "plt.plot(range(len(train_acc)), train_acc, label=\"train accuracy\")\n",
    "plt.plot(range(len(valid_acc)), valid_acc, label=\"valid accuracy\")\n",
    "plt.legend()\n",
    "plt.title(\"Accuracy\")\n",
    "plt.show()"
   ]
  },
  {
   "cell_type": "markdown",
   "metadata": {},
   "source": [
    "## 作業\n",
    "1. 請將 Epoch 加到 500 個，並觀察 learning curve 的走勢\n",
    "2. 請將 Optimizer 換成 SGD，並觀察 learning curve 的走勢"
   ]
  }
 ],
 "metadata": {
  "kernelspec": {
   "display_name": "Python 3",
   "language": "python",
   "name": "python3"
  },
  "language_info": {
   "codemirror_mode": {
    "name": "ipython",
    "version": 3
   },
   "file_extension": ".py",
   "mimetype": "text/x-python",
   "name": "python",
   "nbconvert_exporter": "python",
   "pygments_lexer": "ipython3",
   "version": "3.8.8"
  }
 },
 "nbformat": 4,
 "nbformat_minor": 2
}
