{
 "cells": [
  {
   "cell_type": "markdown",
   "metadata": {},
   "source": [
    "## 範例重點\n",
    "* 知道如何在 keras 中加入 dropout\n",
    "* 了解 dropout 中 ratio 的意義與對訓練的影響"
   ]
  },
  {
   "cell_type": "code",
   "execution_count": 1,
   "metadata": {},
   "outputs": [
    {
     "name": "stderr",
     "output_type": "stream",
     "text": [
      "C:\\Users\\wavegis\\anaconda3\\envs\\yienv\\lib\\site-packages\\requests\\__init__.py:89: RequestsDependencyWarning: urllib3 (1.26.7) or chardet (3.0.4) doesn't match a supported version!\n",
      "  warnings.warn(\"urllib3 ({}) or chardet ({}) doesn't match a supported \"\n"
     ]
    }
   ],
   "source": [
    "import os\n",
    "from tensorflow import keras\n",
    "\n",
    "# 本範例不需使用 GPU, 將 GPU 設定為 \"無\"\n",
    "os.environ[\"CUDA_VISIBLE_DEVICES\"] = \"\""
   ]
  },
  {
   "cell_type": "code",
   "execution_count": 2,
   "metadata": {},
   "outputs": [],
   "source": [
    "train, test = keras.datasets.cifar10.load_data()"
   ]
  },
  {
   "cell_type": "code",
   "execution_count": 3,
   "metadata": {},
   "outputs": [],
   "source": [
    "## 資料前處理\n",
    "def preproc_x(x, flatten=True):\n",
    "    x = x / 255.\n",
    "    if flatten:\n",
    "        x = x.reshape((len(x), -1))\n",
    "    return x\n",
    "\n",
    "def preproc_y(y, num_classes=10):\n",
    "    if y.shape[-1] == 1:\n",
    "        y = keras.utils.to_categorical(y, num_classes)\n",
    "    return y    "
   ]
  },
  {
   "cell_type": "code",
   "execution_count": 4,
   "metadata": {},
   "outputs": [],
   "source": [
    "x_train, y_train = train\n",
    "x_test, y_test = test\n",
    "\n",
    "# 資料前處理 - X 標準化\n",
    "x_train = preproc_x(x_train)\n",
    "x_test = preproc_x(x_test)\n",
    "\n",
    "# 資料前處理 -Y 轉成 onehot\n",
    "y_train = preproc_y(y_train)\n",
    "y_test = preproc_y(y_test)"
   ]
  },
  {
   "cell_type": "code",
   "execution_count": 5,
   "metadata": {},
   "outputs": [],
   "source": [
    "from tensorflow.keras.layers import Dropout\n",
    "\n",
    "\"\"\"\n",
    "建立神經網路，並加入 dropout layer\n",
    "\"\"\"\n",
    "def build_mlp(input_shape, output_units=10, num_neurons=[512, 256, 128], drp_ratio=0.2):\n",
    "    input_layer = keras.layers.Input(input_shape)\n",
    "    \n",
    "    for i, n_units in enumerate(num_neurons):\n",
    "        if i == 0:\n",
    "            x = keras.layers.Dense(units=n_units, \n",
    "                                   activation=\"relu\", \n",
    "                                   name=\"hidden_layer\"+str(i+1))(input_layer)\n",
    "            x = Dropout(drp_ratio)(x)\n",
    "        else:\n",
    "            x = keras.layers.Dense(units=n_units, \n",
    "                                   activation=\"relu\", \n",
    "                                   name=\"hidden_layer\"+str(i+1))(x)\n",
    "            x = Dropout(drp_ratio)(x)\n",
    "    \n",
    "    out = keras.layers.Dense(units=output_units, activation=\"softmax\", name=\"output\")(x)\n",
    "    \n",
    "    model = keras.models.Model(inputs=[input_layer], outputs=[out])\n",
    "    return model"
   ]
  },
  {
   "cell_type": "code",
   "execution_count": 6,
   "metadata": {},
   "outputs": [],
   "source": [
    "## 超參數設定\n",
    "LEARNING_RATE = 1e-3\n",
    "EPOCHS = 50\n",
    "BATCH_SIZE = 256\n",
    "MOMENTUM = 0.95\n",
    "Dropout_EXP = 0.25"
   ]
  },
  {
   "cell_type": "code",
   "execution_count": 9,
   "metadata": {
    "scrolled": true
   },
   "outputs": [
    {
     "name": "stdout",
     "output_type": "stream",
     "text": [
      "Model: \"model_2\"\n",
      "_________________________________________________________________\n",
      "Layer (type)                 Output Shape              Param #   \n",
      "=================================================================\n",
      "input_3 (InputLayer)         [(None, 3072)]            0         \n",
      "_________________________________________________________________\n",
      "hidden_layer1 (Dense)        (None, 512)               1573376   \n",
      "_________________________________________________________________\n",
      "dropout_6 (Dropout)          (None, 512)               0         \n",
      "_________________________________________________________________\n",
      "hidden_layer2 (Dense)        (None, 256)               131328    \n",
      "_________________________________________________________________\n",
      "dropout_7 (Dropout)          (None, 256)               0         \n",
      "_________________________________________________________________\n",
      "hidden_layer3 (Dense)        (None, 128)               32896     \n",
      "_________________________________________________________________\n",
      "dropout_8 (Dropout)          (None, 128)               0         \n",
      "_________________________________________________________________\n",
      "output (Dense)               (None, 10)                1290      \n",
      "=================================================================\n",
      "Total params: 1,738,890\n",
      "Trainable params: 1,738,890\n",
      "Non-trainable params: 0\n",
      "_________________________________________________________________\n",
      "Epoch 1/50\n",
      "196/196 [==============================] - 1s 6ms/step - loss: 2.1990 - accuracy: 0.1830 - val_loss: 2.0056 - val_accuracy: 0.2837\n",
      "Epoch 2/50\n",
      "196/196 [==============================] - 1s 6ms/step - loss: 2.0077 - accuracy: 0.2659 - val_loss: 1.8778 - val_accuracy: 0.3341\n",
      "Epoch 3/50\n",
      "196/196 [==============================] - 1s 5ms/step - loss: 1.9230 - accuracy: 0.3015 - val_loss: 1.8111 - val_accuracy: 0.3594\n",
      "Epoch 4/50\n",
      "196/196 [==============================] - 1s 5ms/step - loss: 1.8646 - accuracy: 0.3257 - val_loss: 1.7619 - val_accuracy: 0.3808\n",
      "Epoch 5/50\n",
      "196/196 [==============================] - 1s 6ms/step - loss: 1.8237 - accuracy: 0.3434 - val_loss: 1.7226 - val_accuracy: 0.3943\n",
      "Epoch 6/50\n",
      "196/196 [==============================] - 1s 5ms/step - loss: 1.7924 - accuracy: 0.3557 - val_loss: 1.6864 - val_accuracy: 0.4036\n",
      "Epoch 7/50\n",
      "196/196 [==============================] - 1s 5ms/step - loss: 1.7603 - accuracy: 0.3697 - val_loss: 1.6578 - val_accuracy: 0.4162\n",
      "Epoch 8/50\n",
      "196/196 [==============================] - 1s 5ms/step - loss: 1.7330 - accuracy: 0.3799 - val_loss: 1.6305 - val_accuracy: 0.4252\n",
      "Epoch 9/50\n",
      "196/196 [==============================] - 1s 6ms/step - loss: 1.7086 - accuracy: 0.3873 - val_loss: 1.6208 - val_accuracy: 0.4275\n",
      "Epoch 10/50\n",
      "196/196 [==============================] - 1s 5ms/step - loss: 1.6921 - accuracy: 0.3968 - val_loss: 1.5941 - val_accuracy: 0.4379\n",
      "Epoch 11/50\n",
      "196/196 [==============================] - 1s 5ms/step - loss: 1.6696 - accuracy: 0.4045 - val_loss: 1.5752 - val_accuracy: 0.4465\n",
      "Epoch 12/50\n",
      "196/196 [==============================] - 1s 5ms/step - loss: 1.6493 - accuracy: 0.4111 - val_loss: 1.5552 - val_accuracy: 0.4494\n",
      "Epoch 13/50\n",
      "196/196 [==============================] - 1s 5ms/step - loss: 1.6349 - accuracy: 0.4141 - val_loss: 1.5411 - val_accuracy: 0.4563\n",
      "Epoch 14/50\n",
      "196/196 [==============================] - 1s 5ms/step - loss: 1.6194 - accuracy: 0.4224 - val_loss: 1.5303 - val_accuracy: 0.4587\n",
      "Epoch 15/50\n",
      "196/196 [==============================] - 1s 5ms/step - loss: 1.6059 - accuracy: 0.4300 - val_loss: 1.5170 - val_accuracy: 0.4645\n",
      "Epoch 16/50\n",
      "196/196 [==============================] - 1s 8ms/step - loss: 1.5901 - accuracy: 0.4343 - val_loss: 1.5045 - val_accuracy: 0.4677\n",
      "Epoch 17/50\n",
      "196/196 [==============================] - 1s 5ms/step - loss: 1.5788 - accuracy: 0.4389 - val_loss: 1.4933 - val_accuracy: 0.4705\n",
      "Epoch 18/50\n",
      "196/196 [==============================] - 1s 5ms/step - loss: 1.5583 - accuracy: 0.4473 - val_loss: 1.4790 - val_accuracy: 0.4725\n",
      "Epoch 19/50\n",
      "196/196 [==============================] - 1s 6ms/step - loss: 1.5520 - accuracy: 0.4495 - val_loss: 1.4769 - val_accuracy: 0.4761\n",
      "Epoch 20/50\n",
      "196/196 [==============================] - 1s 5ms/step - loss: 1.5377 - accuracy: 0.4536 - val_loss: 1.4567 - val_accuracy: 0.4815\n",
      "Epoch 21/50\n",
      "196/196 [==============================] - 1s 5ms/step - loss: 1.5236 - accuracy: 0.4586 - val_loss: 1.4517 - val_accuracy: 0.4860\n",
      "Epoch 22/50\n",
      "196/196 [==============================] - 1s 5ms/step - loss: 1.5118 - accuracy: 0.4633 - val_loss: 1.4385 - val_accuracy: 0.4859\n",
      "Epoch 23/50\n",
      "196/196 [==============================] - 1s 5ms/step - loss: 1.5006 - accuracy: 0.4656 - val_loss: 1.4316 - val_accuracy: 0.4916\n",
      "Epoch 24/50\n",
      "196/196 [==============================] - 1s 5ms/step - loss: 1.4932 - accuracy: 0.4672 - val_loss: 1.4354 - val_accuracy: 0.4812\n",
      "Epoch 25/50\n",
      "196/196 [==============================] - 1s 5ms/step - loss: 1.4831 - accuracy: 0.4743 - val_loss: 1.4178 - val_accuracy: 0.4936\n",
      "Epoch 26/50\n",
      "196/196 [==============================] - 1s 5ms/step - loss: 1.4721 - accuracy: 0.4756 - val_loss: 1.4180 - val_accuracy: 0.4943\n",
      "Epoch 27/50\n",
      "196/196 [==============================] - 1s 5ms/step - loss: 1.4670 - accuracy: 0.4791 - val_loss: 1.4055 - val_accuracy: 0.4982\n",
      "Epoch 28/50\n",
      "196/196 [==============================] - 1s 5ms/step - loss: 1.4525 - accuracy: 0.4822 - val_loss: 1.3993 - val_accuracy: 0.4978\n",
      "Epoch 29/50\n",
      "196/196 [==============================] - 1s 5ms/step - loss: 1.4449 - accuracy: 0.4838 - val_loss: 1.3944 - val_accuracy: 0.4983\n",
      "Epoch 30/50\n",
      "196/196 [==============================] - 1s 5ms/step - loss: 1.4340 - accuracy: 0.4877 - val_loss: 1.3904 - val_accuracy: 0.5019\n",
      "Epoch 31/50\n",
      "196/196 [==============================] - 1s 5ms/step - loss: 1.4280 - accuracy: 0.4905 - val_loss: 1.3812 - val_accuracy: 0.5061\n",
      "Epoch 32/50\n",
      "196/196 [==============================] - 1s 5ms/step - loss: 1.4225 - accuracy: 0.4918 - val_loss: 1.3812 - val_accuracy: 0.5062\n",
      "Epoch 33/50\n",
      "196/196 [==============================] - 1s 5ms/step - loss: 1.4070 - accuracy: 0.4991 - val_loss: 1.3804 - val_accuracy: 0.5069\n",
      "Epoch 34/50\n",
      "196/196 [==============================] - 1s 5ms/step - loss: 1.4016 - accuracy: 0.5001 - val_loss: 1.3606 - val_accuracy: 0.5147\n",
      "Epoch 35/50\n",
      "196/196 [==============================] - 1s 5ms/step - loss: 1.3939 - accuracy: 0.5042 - val_loss: 1.3640 - val_accuracy: 0.5107\n",
      "Epoch 36/50\n",
      "196/196 [==============================] - 1s 5ms/step - loss: 1.3861 - accuracy: 0.5047 - val_loss: 1.3583 - val_accuracy: 0.5151\n",
      "Epoch 37/50\n",
      "196/196 [==============================] - 1s 5ms/step - loss: 1.3728 - accuracy: 0.5097 - val_loss: 1.3540 - val_accuracy: 0.5195\n",
      "Epoch 38/50\n",
      "196/196 [==============================] - 1s 5ms/step - loss: 1.3728 - accuracy: 0.5112 - val_loss: 1.3568 - val_accuracy: 0.5083\n",
      "Epoch 39/50\n",
      "196/196 [==============================] - 1s 5ms/step - loss: 1.3687 - accuracy: 0.5133 - val_loss: 1.3486 - val_accuracy: 0.5127\n",
      "Epoch 40/50\n",
      "196/196 [==============================] - 1s 5ms/step - loss: 1.3546 - accuracy: 0.5171 - val_loss: 1.3462 - val_accuracy: 0.5146\n",
      "Epoch 41/50\n",
      "196/196 [==============================] - 1s 5ms/step - loss: 1.3474 - accuracy: 0.5190 - val_loss: 1.3395 - val_accuracy: 0.5114\n",
      "Epoch 42/50\n",
      "196/196 [==============================] - 1s 5ms/step - loss: 1.3426 - accuracy: 0.5211 - val_loss: 1.3366 - val_accuracy: 0.5221\n",
      "Epoch 43/50\n",
      "196/196 [==============================] - 1s 6ms/step - loss: 1.3360 - accuracy: 0.5240 - val_loss: 1.3316 - val_accuracy: 0.5262\n",
      "Epoch 44/50\n",
      "196/196 [==============================] - 1s 5ms/step - loss: 1.3284 - accuracy: 0.5270 - val_loss: 1.3325 - val_accuracy: 0.5202\n",
      "Epoch 45/50\n",
      "196/196 [==============================] - 1s 5ms/step - loss: 1.3236 - accuracy: 0.5276 - val_loss: 1.3338 - val_accuracy: 0.5189\n",
      "Epoch 46/50\n",
      "196/196 [==============================] - 1s 5ms/step - loss: 1.3163 - accuracy: 0.5321 - val_loss: 1.3196 - val_accuracy: 0.5308\n",
      "Epoch 47/50\n",
      "196/196 [==============================] - 1s 5ms/step - loss: 1.3111 - accuracy: 0.5315 - val_loss: 1.3280 - val_accuracy: 0.5274\n",
      "Epoch 48/50\n"
     ]
    },
    {
     "name": "stdout",
     "output_type": "stream",
     "text": [
      "196/196 [==============================] - 1s 5ms/step - loss: 1.3088 - accuracy: 0.5328 - val_loss: 1.3237 - val_accuracy: 0.5227\n",
      "Epoch 49/50\n",
      "196/196 [==============================] - 1s 5ms/step - loss: 1.3014 - accuracy: 0.5333 - val_loss: 1.3165 - val_accuracy: 0.5298\n",
      "Epoch 50/50\n",
      "196/196 [==============================] - 1s 5ms/step - loss: 1.2921 - accuracy: 0.5383 - val_loss: 1.3184 - val_accuracy: 0.5266\n"
     ]
    }
   ],
   "source": [
    "model = build_mlp(input_shape=x_train.shape[1:], drp_ratio=Dropout_EXP)\n",
    "model.summary()\n",
    "optimizer = keras.optimizers.SGD(lr=LEARNING_RATE, nesterov=True, momentum=MOMENTUM)\n",
    "model.compile(loss=\"categorical_crossentropy\", metrics=[\"accuracy\"], optimizer=optimizer)\n",
    "\n",
    "model.fit(x_train, y_train, \n",
    "          epochs=EPOCHS, \n",
    "          batch_size=BATCH_SIZE, \n",
    "          validation_data=(x_test, y_test), \n",
    "          shuffle=True)\n",
    "\n",
    "# Collect results\n",
    "train_loss = model.history.history[\"loss\"]\n",
    "valid_loss = model.history.history[\"val_loss\"]\n",
    "train_acc = model.history.history[\"accuracy\"]\n",
    "valid_acc = model.history.history[\"val_accuracy\"]"
   ]
  },
  {
   "cell_type": "code",
   "execution_count": 10,
   "metadata": {},
   "outputs": [
    {
     "data": {
      "image/png": "[encoded data removed]",
      "text/plain": [
       "<Figure size 432x288 with 1 Axes>"
      ]
     },
     "metadata": {
      "needs_background": "light"
     },
     "output_type": "display_data"
    },
    {
     "data": {
      "image/png": "[encoded data removed]",
      "text/plain": [
       "<Figure size 432x288 with 1 Axes>"
      ]
     },
     "metadata": {
      "needs_background": "light"
     },
     "output_type": "display_data"
    }
   ],
   "source": [
    "import matplotlib.pyplot as plt\n",
    "%matplotlib inline\n",
    "\n",
    "plt.plot(range(len(train_loss)), train_loss, label=\"train loss\")\n",
    "plt.plot(range(len(valid_loss)), valid_loss, label=\"valid loss\")\n",
    "plt.legend()\n",
    "plt.title(\"Loss\")\n",
    "plt.show()\n",
    "\n",
    "plt.plot(range(len(train_acc)), train_acc, label=\"train accuracy\")\n",
    "plt.plot(range(len(valid_acc)), valid_acc, label=\"valid accuracy\")\n",
    "plt.legend()\n",
    "plt.title(\"Accuracy\")\n",
    "plt.show()"
   ]
  },
  {
   "cell_type": "markdown",
   "metadata": {},
   "source": [
    "## Work\n",
    "1. 請比較使用不同層數以及不同 Dropout rate 對訓練的效果\n",
    "2. 將 optimizer 改成使用 Adam 並加上適當的 dropout rate 檢視結果"
   ]
  }
 ],
 "metadata": {
  "kernelspec": {
   "display_name": "Python 3",
   "language": "python",
   "name": "python3"
  },
  "language_info": {
   "codemirror_mode": {
    "name": "ipython",
    "version": 3
   },
   "file_extension": ".py",
   "mimetype": "text/x-python",
   "name": "python",
   "nbconvert_exporter": "python",
   "pygments_lexer": "ipython3",
   "version": "3.8.8"
  }
 },
 "nbformat": 4,
 "nbformat_minor": 2
}
