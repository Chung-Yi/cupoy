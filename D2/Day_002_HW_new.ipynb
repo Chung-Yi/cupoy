{
 "cells": [
  {
   "cell_type": "markdown",
   "source": [
    "## [作業目標]\r\n",
    "了解機器學習適合應用的領域與範疇。"
   ],
   "metadata": {}
  },
  {
   "cell_type": "markdown",
   "source": [
    "## [作業重點]\n",
    "透過瞭解機器學習的運作方式，找出非常適用機器學習應用的領域及其原因"
   ],
   "metadata": {}
  },
  {
   "cell_type": "markdown",
   "source": [
    "## 作業\r\n",
    "請找出一個你認為機器學習可以發光發熱的領域並闡述原因? "
   ],
   "metadata": {}
  },
  {
   "cell_type": "markdown",
   "source": [
    "結構化資料，例如銀行、保險，擁有許多客戶資料，透過這些大量的資料可以使用機器學習模息進行訓練，進一步做預測。\r\n",
    "非結構化資料，例如車牌辨識，透過蒐集大量車牌圖片進行訓練，可以應用在停車場出"
   ],
   "metadata": {}
  }
 ],
 "metadata": {
  "kernelspec": {
   "name": "python3",
   "display_name": "Python 3.7.4 64-bit ('yienv': conda)"
  },
  "language_info": {
   "codemirror_mode": {
    "name": "ipython",
    "version": 3
   },
   "file_extension": ".py",
   "mimetype": "text/x-python",
   "name": "python",
   "nbconvert_exporter": "python",
   "pygments_lexer": "ipython3",
   "version": "3.7.4"
  },
  "interpreter": {
   "hash": "5f7c15707dd1029b7a3a36fcbfa0c6eea055cebde0094a6b3d83183eb686b192"
  }
 },
 "nbformat": 4,
 "nbformat_minor": 2
}